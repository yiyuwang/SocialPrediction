{
 "cells": [
  {
   "cell_type": "markdown",
   "id": "0e8369be-f8dc-4d08-a7a5-9942ccf4137d",
   "metadata": {},
   "source": [
    "# Export notebook as html with custom name"
   ]
  },
  {
   "cell_type": "code",
   "execution_count": 1,
   "id": "602c953d-e158-4d2c-99a3-078e960ef44a",
   "metadata": {
    "execution": {
     "iopub.execute_input": "2022-05-19T22:28:21.647819Z",
     "iopub.status.busy": "2022-05-19T22:28:21.646422Z",
     "iopub.status.idle": "2022-05-19T22:28:21.652380Z",
     "shell.execute_reply": "2022-05-19T22:28:21.653814Z"
    }
   },
   "outputs": [],
   "source": [
    "import os\n",
    "import glob"
   ]
  },
  {
   "cell_type": "code",
   "execution_count": 2,
   "id": "39897908-df03-4beb-96ea-8fd347da3bf7",
   "metadata": {
    "execution": {
     "iopub.execute_input": "2022-05-19T22:28:21.660687Z",
     "iopub.status.busy": "2022-05-19T22:28:21.658434Z",
     "iopub.status.idle": "2022-05-19T22:28:21.668426Z",
     "shell.execute_reply": "2022-05-19T22:28:21.669820Z"
    }
   },
   "outputs": [],
   "source": [
    "%store -r html_name"
   ]
  },
  {
   "cell_type": "code",
   "execution_count": 3,
   "id": "112f1da7-daca-4cfd-acfc-e1f19b80701d",
   "metadata": {
    "execution": {
     "iopub.execute_input": "2022-05-19T22:28:21.676816Z",
     "iopub.status.busy": "2022-05-19T22:28:21.674531Z",
     "iopub.status.idle": "2022-05-19T22:28:21.698068Z",
     "shell.execute_reply": "2022-05-19T22:28:21.699248Z"
    }
   },
   "outputs": [
    {
     "data": {
      "text/plain": [
       "'AVFP_Multilevel_RSA_residuals.nbconvert.ipynb'"
      ]
     },
     "execution_count": 1,
     "metadata": {},
     "output_type": "execute_result"
    }
   ],
   "source": [
    "# find an executed notebook ('nbconvert in file name')\n",
    "notebook_name = glob.glob('*nbconvert*')[0]\n",
    "notebook_name"
   ]
  },
  {
   "cell_type": "code",
   "execution_count": 4,
   "id": "d0e84d26-b62b-4866-a79b-9c320fd1675a",
   "metadata": {
    "execution": {
     "iopub.execute_input": "2022-05-19T22:28:21.705030Z",
     "iopub.status.busy": "2022-05-19T22:28:21.703118Z",
     "iopub.status.idle": "2022-05-19T22:28:21.713085Z",
     "shell.execute_reply": "2022-05-19T22:28:21.714191Z"
    }
   },
   "outputs": [
    {
     "data": {
      "text/plain": [
       "'AVFP_Multilevel_RSA_residuals.html'"
      ]
     },
     "execution_count": 1,
     "metadata": {},
     "output_type": "execute_result"
    }
   ],
   "source": [
    "html_name"
   ]
  },
  {
   "cell_type": "code",
   "execution_count": 5,
   "id": "b4788af5-2e8a-414a-b83b-1fa73af84769",
   "metadata": {
    "execution": {
     "iopub.execute_input": "2022-05-19T22:28:21.719688Z",
     "iopub.status.busy": "2022-05-19T22:28:21.717902Z",
     "iopub.status.idle": "2022-05-19T22:28:25.063537Z",
     "shell.execute_reply": "2022-05-19T22:28:25.063037Z"
    }
   },
   "outputs": [
    {
     "data": {
      "text/plain": [
       "0"
      ]
     },
     "execution_count": 1,
     "metadata": {},
     "output_type": "execute_result"
    }
   ],
   "source": [
    "# save as html\n",
    "os.system('jupyter nbconvert ' + notebook_name + ' --to html --output ' + html_name)"
   ]
  },
  {
   "cell_type": "code",
   "execution_count": 6,
   "id": "d9bb598f-4347-4ec6-9d86-ae2e5b6ca18d",
   "metadata": {
    "execution": {
     "iopub.execute_input": "2022-05-19T22:28:25.069304Z",
     "iopub.status.busy": "2022-05-19T22:28:25.068744Z",
     "iopub.status.idle": "2022-05-19T22:28:25.096596Z",
     "shell.execute_reply": "2022-05-19T22:28:25.096124Z"
    }
   },
   "outputs": [
    {
     "data": {
      "text/plain": [
       "0"
      ]
     },
     "execution_count": 1,
     "metadata": {},
     "output_type": "execute_result"
    }
   ],
   "source": [
    "# remove extra notebook\n",
    "os.system('rm ' + notebook_name.split('/')[-1])"
   ]
  },
  {
   "cell_type": "code",
   "execution_count": null,
   "id": "070f5b11-130b-419a-a992-0b662811a81f",
   "metadata": {},
   "outputs": [],
   "source": []
  }
 ],
 "metadata": {
  "kernelspec": {
   "display_name": "Python 3",
   "language": "python",
   "name": "python3"
  },
  "language_info": {
   "codemirror_mode": {
    "name": "ipython",
    "version": 3
   },
   "file_extension": ".py",
   "mimetype": "text/x-python",
   "name": "python",
   "nbconvert_exporter": "python",
   "pygments_lexer": "ipython3",
   "version": "3.6.4"
  }
 },
 "nbformat": 4,
 "nbformat_minor": 5
}
