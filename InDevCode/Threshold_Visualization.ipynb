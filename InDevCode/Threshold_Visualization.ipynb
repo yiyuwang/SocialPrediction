{
 "cells": [
  {
   "cell_type": "markdown",
   "metadata": {},
   "source": [
    "# Thresholding group level results and Visualization\n",
    "\n",
    "*Yiyu Wang 2024 Feb*\n"
   ]
  },
  {
   "cell_type": "code",
   "execution_count": 11,
   "metadata": {},
   "outputs": [],
   "source": [
    "import os\n",
    "\n",
    "import glob\n",
    "import nibabel as nib\n",
    "import numpy as np\n",
    "import pandas as pd\n",
    "import copy\n",
    "\n",
    "import nilearn\n",
    "from nilearn.image import smooth_img, resample_to_img,new_img_like, math_img, concat_imgs, get_data\n",
    "from nilearn import image\n",
    "from nilearn import plotting\n",
    "from nilearn.masking import apply_mask\n",
    "from nilearn.input_data import NiftiMasker\n",
    "from nilearn.glm.second_level import SecondLevelModel\n",
    "from nilearn.reporting import get_clusters_table\n",
    "from nilearn.glm import threshold_stats_img\n",
    "from scipy.stats import norm\n",
    "\n",
    "from nilearn.datasets import load_mni152_gm_mask,load_mni152_wm_mask,fetch_surf_fsaverage\n",
    "\n",
    "\n",
    "import gzip\n",
    "import math\n",
    "\n",
    "import seaborn as sns\n",
    "import matplotlib.pyplot as plt\n",
    "from os.path import join\n"
   ]
  },
  {
   "cell_type": "code",
   "execution_count": 12,
   "metadata": {},
   "outputs": [],
   "source": [
    "# load image:\n",
    "\n",
    "#which_model = 'OneSampleT_2lvl'\n",
    "# which_model = 'OneSampleT_3lvl'\n",
    "which_model = 'PairedT_2ndlvl'\n",
    "\n",
    "which_contrast = 'obs_social_pattern' # \n",
    "# which_contrast = 'interaction' \n",
    "# which_contrast = 'main_PE'\n",
    "# which_contrast = 'fb_PE_congruent'\n",
    "# which_contrast = 'pattern_fb_PE_congruent'\n",
    "# which_contrast = 'social_fb_PE_congruent'\n",
    "\n",
    "\n",
    "beta_dir = f'model_norating_fmri_results/{which_model}'"
   ]
  },
  {
   "cell_type": "code",
   "execution_count": 20,
   "metadata": {},
   "outputs": [
    {
     "name": "stdout",
     "output_type": "stream",
     "text": [
      "\n",
      "which_model = OneSampleT_2lvl\n",
      "which_contrast = obs_social_pattern\n",
      "fwe = 5.14\n",
      "max voxel value = 3.6429641716732943\n",
      "min voxel value = -2.7763489518178788\n",
      "which_contrast = interaction\n",
      "fwe = 5.14\n",
      "max voxel value = 4.000242054912808\n",
      "min voxel value = -3.112636449412635\n",
      "which_contrast = main_PE\n",
      "fwe = 5.14\n",
      "max voxel value = 3.451240158535054\n",
      "min voxel value = -5.702507049744487\n",
      "which_contrast = fb_PE_congruent\n",
      "fwe = 5.14\n",
      "max voxel value = 3.44844547624027\n",
      "min voxel value = -5.42390771890837\n",
      "which_contrast = fb_pattern_PE_congruent\n",
      "fwe = 5.14\n",
      "max voxel value = 4.027725098399985\n",
      "min voxel value = -6.1613564552137285\n",
      "which_contrast = fb_social_PE_congruent\n",
      "fwe = 5.14\n",
      "max voxel value = 2.603146481329869\n",
      "min voxel value = -4.3633935343186865\n",
      "\n",
      "which_model = OneSampleT_3lvl\n",
      "which_contrast = obs_social_pattern\n",
      "fwe = 5.14\n",
      "max voxel value = 4.52650898472606\n",
      "min voxel value = -3.604469065976456\n",
      "which_contrast = interaction\n",
      "fwe = 5.14\n",
      "max voxel value = 5.856023052171699\n",
      "min voxel value = -5.380205895286917\n",
      "which_contrast = main_PE\n",
      "fwe = 5.14\n",
      "max voxel value = 5.228516494576518\n",
      "min voxel value = -7.383024095026982\n",
      "which_contrast = fb_PE_congruent\n",
      "fwe = 5.14\n",
      "max voxel value = 3.861743182302484\n",
      "min voxel value = -3.3848186896067776\n",
      "which_contrast = fb_pattern_PE_congruent\n",
      "fwe = 5.14\n",
      "max voxel value = 11.392377576247197\n",
      "min voxel value = -12.215727138123507\n",
      "which_contrast = fb_social_PE_congruent\n",
      "fwe = 5.14\n",
      "max voxel value = 4.379744696751484\n",
      "min voxel value = -5.890150502807669\n",
      "\n",
      "which_model = PairedT_2ndlvl\n",
      "which_contrast = obs_social_pattern\n",
      "fwe = 5.14\n",
      "max voxel value = 4.458127140521386\n",
      "min voxel value = -3.5542875991672256\n",
      "which_contrast = interaction\n",
      "fwe = 5.14\n",
      "max voxel value = 5.3119995116259116\n",
      "min voxel value = -4.686975810218152\n",
      "which_contrast = main_PE\n",
      "fwe = 5.14\n",
      "max voxel value = 4.556341829636405\n",
      "min voxel value = -7.525234871741935\n",
      "which_contrast = fb_PE_congruent\n",
      "fwe = 5.14\n",
      "max voxel value = 4.400268457573788\n",
      "min voxel value = -6.811600187798863\n",
      "which_contrast = fb_pattern_PE_congruent\n",
      "fwe = 5.14\n",
      "max voxel value = 4.156139525795486\n",
      "min voxel value = -3.370332045042273\n",
      "which_contrast = fb_social_PE_congruent\n",
      "fwe = 5.14\n",
      "max voxel value = 3.377197114189057\n",
      "min voxel value = -3.636733749705106\n"
     ]
    }
   ],
   "source": [
    "\n",
    "fwe = 5.14\n",
    "for which_model in ['OneSampleT_2lvl', 'OneSampleT_3lvl', 'PairedT_2ndlvl']:\n",
    "# for which_model in ['PairedT_2ndlvl']:\n",
    "    beta_dir = f'Model_RatingOnset_fmri_results/{which_model}'\n",
    "    print(f'\\nwhich_model = {which_model}')\n",
    "    for which_contrast in ['obs_social_pattern', 'interaction', 'main_PE', 'fb_PE_congruent', 'fb_pattern_PE_congruent', 'fb_social_PE_congruent']:\n",
    "        print(f'which_contrast = {which_contrast}')\n",
    "        z_map = nib.load(beta_dir + f'/{which_contrast}_z_score.nii.gz')\n",
    "        # _, fwe = threshold_stats_img(z_map, alpha=0.05, height_control='bonferroni', cluster_threshold=30)\n",
    "        print(f'fwe = {fwe}')\n",
    "        print(f'max voxel value = {z_map.get_fdata().max()}')\n",
    "        print(f'min voxel value = {z_map.get_fdata().min()}')\n",
    "    "
   ]
  },
  {
   "cell_type": "code",
   "execution_count": 19,
   "metadata": {},
   "outputs": [
    {
     "name": "stdout",
     "output_type": "stream",
     "text": [
      "\n",
      "which_model = OneSampleT_2lvl\n",
      "which_contrast = obs_social_pattern\n",
      "fwe = 5.14\n",
      "max voxel value = 3.4861167333233634\n",
      "min voxel value = -2.7580203050964363\n",
      "which_contrast = interaction\n",
      "fwe = 5.14\n",
      "max voxel value = 5.130981536641678\n",
      "min voxel value = -3.6776383642358046\n",
      "which_contrast = main_PE\n",
      "fwe = 5.14\n",
      "max voxel value = 3.6388746062336828\n",
      "min voxel value = -5.759971375751789\n",
      "which_contrast = fb_PE_congruent\n",
      "fwe = 5.14\n",
      "max voxel value = 3.6281264590150757\n",
      "min voxel value = -5.37910504497078\n",
      "which_contrast = fb_pattern_PE_congruent\n",
      "fwe = 5.14\n",
      "max voxel value = 3.864277529149974\n",
      "min voxel value = -6.7079637958660046\n",
      "which_contrast = fb_social_PE_congruent\n",
      "fwe = 5.14\n",
      "max voxel value = 2.7842026212997095\n",
      "min voxel value = -3.400005838197903\n",
      "\n",
      "which_model = OneSampleT_3lvl\n",
      "which_contrast = obs_social_pattern\n",
      "fwe = 5.14\n",
      "max voxel value = 4.730902651176177\n",
      "min voxel value = -3.419279368772976\n",
      "which_contrast = interaction\n",
      "fwe = 5.14\n",
      "max voxel value = 6.092518757011305\n",
      "min voxel value = -5.9509785491284575\n",
      "which_contrast = main_PE\n",
      "fwe = 5.14\n",
      "max voxel value = 4.941261744419585\n",
      "min voxel value = -7.093916147487632\n",
      "which_contrast = fb_PE_congruent\n",
      "fwe = 5.14\n",
      "max voxel value = 3.517386066663037\n",
      "min voxel value = -3.7917926876932437\n",
      "which_contrast = fb_pattern_PE_congruent\n",
      "fwe = 5.14\n",
      "max voxel value = 11.908241687996963\n",
      "min voxel value = -10.958846449543787\n",
      "which_contrast = fb_social_PE_congruent\n",
      "fwe = 5.14\n",
      "max voxel value = 4.683319935802479\n",
      "min voxel value = -5.076379033339101\n",
      "\n",
      "which_model = PairedT_2ndlvl\n",
      "which_contrast = obs_social_pattern\n",
      "fwe = 5.14\n",
      "max voxel value = 4.68770489785647\n",
      "min voxel value = -3.2989349374846344\n",
      "which_contrast = interaction\n",
      "fwe = 5.14\n",
      "max voxel value = 4.298413973073893\n",
      "min voxel value = -4.750546754630983\n",
      "which_contrast = main_PE\n",
      "fwe = 5.14\n",
      "max voxel value = 2.9613670093291087\n",
      "min voxel value = -2.5528997609734954\n",
      "which_contrast = fb_PE_congruent\n",
      "fwe = 5.14\n",
      "max voxel value = 2.9862747142842863\n",
      "min voxel value = -2.5372365621179225\n",
      "which_contrast = fb_pattern_PE_congruent\n",
      "fwe = 5.14\n",
      "max voxel value = 4.034110983738506\n",
      "min voxel value = -3.8895511563522627\n",
      "which_contrast = fb_social_PE_congruent\n",
      "fwe = 5.14\n",
      "max voxel value = 4.626035198820533\n",
      "min voxel value = -5.017728254482691\n"
     ]
    }
   ],
   "source": [
    "fwe = 5.14\n",
    "for which_model in ['OneSampleT_2lvl', 'OneSampleT_3lvl', 'PairedT_2ndlvl']:\n",
    "# for which_model in ['PairedT_2ndlvl']:\n",
    "    beta_dir = f'model_norating_fmri_results/{which_model}'\n",
    "    print(f'\\nwhich_model = {which_model}')\n",
    "    for which_contrast in ['obs_social_pattern', 'interaction', 'main_PE', 'fb_PE_congruent', 'fb_pattern_PE_congruent', 'fb_social_PE_congruent']:\n",
    "        print(f'which_contrast = {which_contrast}')\n",
    "        z_map = nib.load(beta_dir + f'/{which_contrast}_z_score.nii.gz')\n",
    "        # _, fwe = threshold_stats_img(z_map, alpha=0.05, height_control='bonferroni', cluster_threshold=30)\n",
    "        print(f'fwe = {fwe}')\n",
    "        print(f'max voxel value = {z_map.get_fdata().max()}')\n",
    "        print(f'min voxel value = {z_map.get_fdata().min()}')\n",
    "    "
   ]
  },
  {
   "cell_type": "code",
   "execution_count": 14,
   "metadata": {},
   "outputs": [
    {
     "name": "stdout",
     "output_type": "stream",
     "text": [
      "fwe = 5.149\n",
      "\n",
      "which_model = OneSampleT_2lvl\n",
      "which_contrast = obs_social_pattern\n"
     ]
    },
    {
     "name": "stderr",
     "output_type": "stream",
     "text": [
      "/Users/yiyuwang/anaconda3/envs/neuroimaging_env/lib/python3.7/site-packages/nilearn/_utils/param_validation.py:73: UserWarning: The given float value must not exceed 3.4861167333233634. But, you have given threshold=inf.\n",
      "  f\"The given float value must not exceed {value_check}. \"\n"
     ]
    },
    {
     "name": "stdout",
     "output_type": "stream",
     "text": [
      "fdr = inf\n",
      "max voxel value = 3.4861167333233634\n",
      "which_contrast = interaction\n",
      "fdr = 3.8985800090265803\n",
      "max voxel value = 5.130981536641678\n",
      "which_contrast = main_PE\n",
      "fdr = 3.903292987736312\n",
      "max voxel value = 3.6388746062336828\n",
      "which_contrast = fb_PE_congruent\n",
      "fdr = 3.989901562848513\n",
      "max voxel value = 3.6281264590150757\n",
      "which_contrast = fb_pattern_PE_congruent\n",
      "fdr = 3.470831174067695\n",
      "max voxel value = 3.864277529149974\n",
      "which_contrast = fb_social_PE_congruent\n"
     ]
    },
    {
     "name": "stderr",
     "output_type": "stream",
     "text": [
      "/Users/yiyuwang/anaconda3/envs/neuroimaging_env/lib/python3.7/site-packages/nilearn/_utils/param_validation.py:73: UserWarning: The given float value must not exceed 3.400005838197903. But, you have given threshold=inf.\n",
      "  f\"The given float value must not exceed {value_check}. \"\n"
     ]
    },
    {
     "name": "stdout",
     "output_type": "stream",
     "text": [
      "fdr = inf\n",
      "max voxel value = 2.7842026212997095\n",
      "\n",
      "which_model = OneSampleT_3lvl\n",
      "which_contrast = obs_social_pattern\n"
     ]
    },
    {
     "name": "stderr",
     "output_type": "stream",
     "text": [
      "/Users/yiyuwang/anaconda3/envs/neuroimaging_env/lib/python3.7/site-packages/nilearn/_utils/param_validation.py:73: UserWarning: The given float value must not exceed 4.730902651176177. But, you have given threshold=inf.\n",
      "  f\"The given float value must not exceed {value_check}. \"\n"
     ]
    },
    {
     "name": "stdout",
     "output_type": "stream",
     "text": [
      "fdr = inf\n",
      "max voxel value = 4.730902651176177\n",
      "which_contrast = interaction\n",
      "fdr = 2.853183955276285\n",
      "max voxel value = 6.092518757011305\n",
      "which_contrast = main_PE\n",
      "fdr = 2.8206535448969383\n",
      "max voxel value = 4.941261744419585\n",
      "which_contrast = fb_PE_congruent\n"
     ]
    },
    {
     "name": "stderr",
     "output_type": "stream",
     "text": [
      "/Users/yiyuwang/anaconda3/envs/neuroimaging_env/lib/python3.7/site-packages/nilearn/_utils/param_validation.py:73: UserWarning: The given float value must not exceed 3.7917926876932437. But, you have given threshold=inf.\n",
      "  f\"The given float value must not exceed {value_check}. \"\n"
     ]
    },
    {
     "name": "stdout",
     "output_type": "stream",
     "text": [
      "fdr = inf\n",
      "max voxel value = 3.517386066663037\n",
      "which_contrast = fb_pattern_PE_congruent\n",
      "fdr = 2.1538084876847607\n",
      "max voxel value = 11.908241687996963\n",
      "which_contrast = fb_social_PE_congruent\n",
      "fdr = 3.8745797719779387\n",
      "max voxel value = 4.683319935802479\n",
      "\n",
      "which_model = PairedT_2ndlvl\n",
      "which_contrast = obs_social_pattern\n"
     ]
    },
    {
     "name": "stderr",
     "output_type": "stream",
     "text": [
      "/Users/yiyuwang/anaconda3/envs/neuroimaging_env/lib/python3.7/site-packages/nilearn/_utils/param_validation.py:73: UserWarning: The given float value must not exceed 4.68770489785647. But, you have given threshold=inf.\n",
      "  f\"The given float value must not exceed {value_check}. \"\n"
     ]
    },
    {
     "name": "stdout",
     "output_type": "stream",
     "text": [
      "fdr = inf\n",
      "max voxel value = 4.68770489785647\n",
      "which_contrast = interaction\n",
      "fdr = 4.429919483620408\n",
      "max voxel value = 4.298413973073893\n",
      "which_contrast = main_PE\n"
     ]
    },
    {
     "name": "stderr",
     "output_type": "stream",
     "text": [
      "/Users/yiyuwang/anaconda3/envs/neuroimaging_env/lib/python3.7/site-packages/nilearn/_utils/param_validation.py:73: UserWarning: The given float value must not exceed 2.9613670093291087. But, you have given threshold=inf.\n",
      "  f\"The given float value must not exceed {value_check}. \"\n"
     ]
    },
    {
     "name": "stdout",
     "output_type": "stream",
     "text": [
      "fdr = inf\n",
      "max voxel value = 2.9613670093291087\n",
      "which_contrast = fb_PE_congruent\n"
     ]
    },
    {
     "name": "stderr",
     "output_type": "stream",
     "text": [
      "/Users/yiyuwang/anaconda3/envs/neuroimaging_env/lib/python3.7/site-packages/nilearn/_utils/param_validation.py:73: UserWarning: The given float value must not exceed 2.9862747142842863. But, you have given threshold=inf.\n",
      "  f\"The given float value must not exceed {value_check}. \"\n"
     ]
    },
    {
     "name": "stdout",
     "output_type": "stream",
     "text": [
      "fdr = inf\n",
      "max voxel value = 2.9862747142842863\n",
      "which_contrast = fb_pattern_PE_congruent\n"
     ]
    },
    {
     "name": "stderr",
     "output_type": "stream",
     "text": [
      "/Users/yiyuwang/anaconda3/envs/neuroimaging_env/lib/python3.7/site-packages/nilearn/_utils/param_validation.py:73: UserWarning: The given float value must not exceed 4.034110983738506. But, you have given threshold=inf.\n",
      "  f\"The given float value must not exceed {value_check}. \"\n"
     ]
    },
    {
     "name": "stdout",
     "output_type": "stream",
     "text": [
      "fdr = inf\n",
      "max voxel value = 4.034110983738506\n",
      "which_contrast = fb_social_PE_congruent\n",
      "fdr = 4.121530012235392\n",
      "max voxel value = 4.626035198820533\n"
     ]
    }
   ],
   "source": [
    "fwe = 5.149\n",
    "print(f'fwe = {fwe}')   \n",
    "for which_model in ['OneSampleT_2lvl', 'OneSampleT_3lvl', 'PairedT_2ndlvl']:\n",
    "# for which_model in ['PairedT_2ndlvl']:\n",
    "    beta_dir = f'model_norating_fmri_results/{which_model}'\n",
    "    print(f'\\nwhich_model = {which_model}')\n",
    "    for which_contrast in ['obs_social_pattern', 'interaction', 'main_PE', 'fb_PE_congruent', 'fb_pattern_PE_congruent', 'fb_social_PE_congruent']:\n",
    "        print(f'which_contrast = {which_contrast}')\n",
    "        z_map = nib.load(beta_dir + f'/{which_contrast}_z_score.nii.gz')\n",
    "        _, fdr = threshold_stats_img(z_map, alpha=0.05, height_control='fdr', cluster_threshold=30)\n",
    "        print(f'fdr = {fdr}')\n",
    "        print(f'max voxel value = {z_map.get_fdata().max()}')\n",
    "    "
   ]
  },
  {
   "cell_type": "code",
   "execution_count": 4,
   "metadata": {},
   "outputs": [
    {
     "name": "stdout",
     "output_type": "stream",
     "text": [
      "fdr = inf\n"
     ]
    }
   ],
   "source": [
    "z_map = nib.load(beta_dir + f'/obs_social_pattern_z_score.nii.gz')\n",
    "\n",
    "\n",
    "z_vals = z_map.get_fdata().flatten()\n",
    "alpha = 0.05\n",
    "z_vals_ = -np.sort(-z_vals)\n",
    "p_vals = norm.sf(z_vals_)\n",
    "n_samples = len(p_vals)\n",
    "pos = p_vals < alpha * np.linspace(1 / n_samples, 1, n_samples)\n",
    "fdr = z_vals_[pos][-1] - 1.0e-12 if pos.any() else np.inf\n",
    "\n",
    "print(f'fdr = {fdr}')"
   ]
  },
  {
   "cell_type": "code",
   "execution_count": 6,
   "metadata": {},
   "outputs": [
    {
     "name": "stderr",
     "output_type": "stream",
     "text": [
      "/Users/yiyuwang/anaconda3/envs/neuroimaging_env/lib/python3.7/site-packages/nilearn/_utils/param_validation.py:73: UserWarning: The given float value must not exceed 5.017728254482691. But, you have given threshold=5.149072733780298.\n",
      "  f\"The given float value must not exceed {value_check}. \"\n"
     ]
    },
    {
     "name": "stdout",
     "output_type": "stream",
     "text": [
      "fwe = 5.149072733780298\n",
      "max voxel value = 4.626035198820533\n"
     ]
    },
    {
     "data": {
      "text/plain": [
       "<nilearn.plotting.displays._slicers.ZSlicer at 0x7fb280e2de80>"
      ]
     },
     "execution_count": 6,
     "metadata": {},
     "output_type": "execute_result"
    },
    {
     "data": {
      "image/png": "[encoded data removed]",
      "text/plain": [
       "<Figure size 842.4x230.4 with 7 Axes>"
      ]
     },
     "metadata": {},
     "output_type": "display_data"
    }
   ],
   "source": [
    "z_map = nib.load(beta_dir + f'/{which_contrast}_z_score.nii.gz')\n",
    "\n",
    "fwe_corrected, fwe = threshold_stats_img(z_map, alpha=0.05, height_control='bonferroni', cluster_threshold=40)\n",
    "print(f'fwe = {fwe}')\n",
    "print(f'max voxel value = {z_map.get_fdata().max()}')\n",
    "plotting.plot_stat_map(z_map, threshold=3.1, display_mode='z', cut_coords=5, colorbar=True, title=which_contrast)"
   ]
  },
  {
   "cell_type": "code",
   "execution_count": null,
   "metadata": {},
   "outputs": [],
   "source": []
  }
 ],
 "metadata": {
  "kernelspec": {
   "display_name": "Python 3",
   "language": "python",
   "name": "python3"
  },
  "language_info": {
   "codemirror_mode": {
    "name": "ipython",
    "version": 3
   },
   "file_extension": ".py",
   "mimetype": "text/x-python",
   "name": "python",
   "nbconvert_exporter": "python",
   "pygments_lexer": "ipython3",
   "version": "3.7.3"
  }
 },
 "nbformat": 4,
 "nbformat_minor": 4
}
